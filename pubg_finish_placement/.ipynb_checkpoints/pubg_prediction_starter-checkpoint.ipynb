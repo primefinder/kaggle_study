{
 "cells": [
  {
   "cell_type": "code",
   "execution_count": 1,
   "metadata": {},
   "outputs": [
    {
     "name": "stdout",
     "output_type": "stream",
     "text": [
      "[['Id' 'groupId' 'matchId' ... 'weaponsAcquired' 'winPoints'\n",
      "  'winPlacePerc']\n",
      " ['0' '24' '0' ... '4' '1458' '0.8571']\n",
      " ['1' '440875' '1' ... '3' '1511' '0.0400']\n",
      " ...\n",
      " ['6224520' '1657176' '47679' ... '2' '1500' '0.4483']\n",
      " ['6224521' '1658403' '47707' ... '1' '1502' '0.1429']\n",
      " ['6224522' '1658560' '47710' ... '4' '1517' '0.8077']]\n"
     ]
    }
   ],
   "source": [
    "import csv\n",
    "import numpy as np\n",
    "\n",
    "with open('../../kaggle_data/pubg_finish_placement/data/train.csv','r') as dest_f:\n",
    "    data_iter = csv.reader(dest_f, \n",
    "                           delimiter = ',', \n",
    "                           quotechar = '\"')\n",
    "    data = [data for data in data_iter]\n",
    "data_array = np.asarray(data, dtype = 'str')\n",
    "print(data_array)\n",
    "#print(data_array.shape)"
   ]
  }
 ],
 "metadata": {
  "kernelspec": {
   "display_name": "Python 3",
   "language": "python",
   "name": "python3"
  },
  "language_info": {
   "codemirror_mode": {
    "name": "ipython",
    "version": 3
   },
   "file_extension": ".py",
   "mimetype": "text/x-python",
   "name": "python",
   "nbconvert_exporter": "python",
   "pygments_lexer": "ipython3",
   "version": "3.6.6"
  }
 },
 "nbformat": 4,
 "nbformat_minor": 2
}
